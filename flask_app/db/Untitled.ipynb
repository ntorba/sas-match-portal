{
 "cells": [
  {
   "cell_type": "code",
   "execution_count": 10,
   "id": "d66d90e8",
   "metadata": {},
   "outputs": [],
   "source": [
    "import pandas as pd\n",
    "import sqlite3\n",
    "\n",
    "# Read sqlite query results into a pandas DataFrame\n",
    "con = sqlite3.connect(\"tq.db\")\n",
    "df = pd.read_sql_query(\"SELECT * from User\", con)\n",
    "\n",
    "con.close()"
   ]
  },
  {
   "cell_type": "code",
   "execution_count": 9,
   "id": "d71c3499",
   "metadata": {},
   "outputs": [
    {
     "data": {
      "text/html": [
       "<div>\n",
       "<style scoped>\n",
       "    .dataframe tbody tr th:only-of-type {\n",
       "        vertical-align: middle;\n",
       "    }\n",
       "\n",
       "    .dataframe tbody tr th {\n",
       "        vertical-align: top;\n",
       "    }\n",
       "\n",
       "    .dataframe thead th {\n",
       "        text-align: right;\n",
       "    }\n",
       "</style>\n",
       "<table border=\"1\" class=\"dataframe\">\n",
       "  <thead>\n",
       "    <tr style=\"text-align: right;\">\n",
       "      <th></th>\n",
       "      <th>id</th>\n",
       "      <th>role</th>\n",
       "      <th>name</th>\n",
       "      <th>email</th>\n",
       "      <th>password</th>\n",
       "      <th>registered_on</th>\n",
       "      <th>admin</th>\n",
       "    </tr>\n",
       "  </thead>\n",
       "  <tbody>\n",
       "    <tr>\n",
       "      <th>0</th>\n",
       "      <td>1</td>\n",
       "      <td>Scientist</td>\n",
       "      <td>fakie scientist</td>\n",
       "      <td>science@hello.com</td>\n",
       "      <td>b'$2b$13$klvrKw.oZ/z0M132wf3IGea6tYxWvmClzraJJ...</td>\n",
       "      <td>2022-01-14 12:03:08.009693</td>\n",
       "      <td>0</td>\n",
       "    </tr>\n",
       "  </tbody>\n",
       "</table>\n",
       "</div>"
      ],
      "text/plain": [
       "   id       role             name              email  \\\n",
       "0   1  Scientist  fakie scientist  science@hello.com   \n",
       "\n",
       "                                            password  \\\n",
       "0  b'$2b$13$klvrKw.oZ/z0M132wf3IGea6tYxWvmClzraJJ...   \n",
       "\n",
       "                registered_on  admin  \n",
       "0  2022-01-14 12:03:08.009693      0  "
      ]
     },
     "execution_count": 9,
     "metadata": {},
     "output_type": "execute_result"
    }
   ],
   "source": [
    "df.head()"
   ]
  },
  {
   "cell_type": "code",
   "execution_count": 11,
   "id": "aeddbcd1",
   "metadata": {},
   "outputs": [
    {
     "data": {
      "text/html": [
       "<div>\n",
       "<style scoped>\n",
       "    .dataframe tbody tr th:only-of-type {\n",
       "        vertical-align: middle;\n",
       "    }\n",
       "\n",
       "    .dataframe tbody tr th {\n",
       "        vertical-align: top;\n",
       "    }\n",
       "\n",
       "    .dataframe thead th {\n",
       "        text-align: right;\n",
       "    }\n",
       "</style>\n",
       "<table border=\"1\" class=\"dataframe\">\n",
       "  <thead>\n",
       "    <tr style=\"text-align: right;\">\n",
       "      <th></th>\n",
       "      <th>id</th>\n",
       "      <th>user_id</th>\n",
       "      <th>name</th>\n",
       "      <th>semester</th>\n",
       "      <th>description</th>\n",
       "      <th>registered_on</th>\n",
       "    </tr>\n",
       "  </thead>\n",
       "  <tbody>\n",
       "    <tr>\n",
       "      <th>0</th>\n",
       "      <td>1</td>\n",
       "      <td>1</td>\n",
       "      <td>first classroom</td>\n",
       "      <td>Spring 2022</td>\n",
       "      <td>this the first one yayy</td>\n",
       "      <td>2022-01-14 12:07:28.041701</td>\n",
       "    </tr>\n",
       "    <tr>\n",
       "      <th>1</th>\n",
       "      <td>2</td>\n",
       "      <td>4</td>\n",
       "      <td>Nicks C1</td>\n",
       "      <td>Spring 2021</td>\n",
       "      <td>oh yeah</td>\n",
       "      <td>2022-01-14 12:27:00.000000</td>\n",
       "    </tr>\n",
       "    <tr>\n",
       "      <th>2</th>\n",
       "      <td>3</td>\n",
       "      <td>4</td>\n",
       "      <td>Nick's Jawn</td>\n",
       "      <td>Spring 2022</td>\n",
       "      <td>yeeet</td>\n",
       "      <td>2022-01-14 12:27:00.000000</td>\n",
       "    </tr>\n",
       "  </tbody>\n",
       "</table>\n",
       "</div>"
      ],
      "text/plain": [
       "   id  user_id             name     semester              description  \\\n",
       "0   1        1  first classroom  Spring 2022  this the first one yayy   \n",
       "1   2        4         Nicks C1  Spring 2021                  oh yeah   \n",
       "2   3        4      Nick's Jawn  Spring 2022                    yeeet   \n",
       "\n",
       "                registered_on  \n",
       "0  2022-01-14 12:07:28.041701  \n",
       "1  2022-01-14 12:27:00.000000  \n",
       "2  2022-01-14 12:27:00.000000  "
      ]
     },
     "execution_count": 11,
     "metadata": {},
     "output_type": "execute_result"
    }
   ],
   "source": [
    "con = sqlite3.connect(\"tq.db\")\n",
    "\n",
    "classrooms = pd.read_sql_query(\"SELECT * from ClassRoom\", con)\n",
    "con.close()\n",
    "classrooms.head()"
   ]
  },
  {
   "cell_type": "code",
   "execution_count": null,
   "id": "3294986a",
   "metadata": {},
   "outputs": [],
   "source": []
  }
 ],
 "metadata": {
  "kernelspec": {
   "display_name": "Python 3 (ipykernel)",
   "language": "python",
   "name": "python3"
  },
  "language_info": {
   "codemirror_mode": {
    "name": "ipython",
    "version": 3
   },
   "file_extension": ".py",
   "mimetype": "text/x-python",
   "name": "python",
   "nbconvert_exporter": "python",
   "pygments_lexer": "ipython3",
   "version": "3.10.0"
  }
 },
 "nbformat": 4,
 "nbformat_minor": 5
}
